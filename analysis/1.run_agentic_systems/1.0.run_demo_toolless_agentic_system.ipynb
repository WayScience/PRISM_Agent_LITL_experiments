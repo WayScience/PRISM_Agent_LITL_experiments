{
 "cells": [
  {
   "cell_type": "markdown",
   "metadata": {},
   "source": [
    "# Tool-less Agentic System Demo\n",
    "\n",
    "This script demonstrates a minimal agentic AI experiment using the DepMap PRISM IC50 dataset.\n",
    "Actual experimental runs will use the exact same workflow:\n",
    "- with tools\n",
    "- with better (larger) langauge models\n",
    "- and across more drugs within the same cell line or across multiple cell lines.\n",
    "\n",
    "### Overview\n",
    "- **Data Source**: Preprocessed PRISM secondary drug repurposing dataset (`processed_depmap_prism_ic50.csv`).  \n",
    "- **Lookup & Dispatch**:  \n",
    "  - `PrismLookup` retrieves IC50 values by drug and cell line identifiers.  \n",
    "  - `PrismDispatchQueue` sequentially dispatches drug–cell line prediction tasks with optional shuffling.  \n",
    "- **Agent**:  \n",
    "  - A `dspy.Predict` agent configured with `PredictIC50DrugCell` signature.  \n",
    "  - Operates without external tools (tool-less mode).  \n",
    "  - Only makes predictions on the first 100 drugs and uses the smaller `openai/gpt-5-nano` model to reduce API usage.\n",
    "- **Logging**:  \n",
    "  - Each dispatched prediction is wrapped in a `TraceUnit`.  \n",
    "  - Results (IC50 prediction, confidence, explanation, trajectory) are logged to JSONL under `analysis/log/toolless/<CCLE_NAME>/`.\n",
    "\n",
    "### Purpose\n",
    "This demo provides a reproducible entry point for experimenting with agentic prediction pipelines in a **lab-in-the-loop (LITL)** context. It establishes the foundation for more advanced experiments involving tool integration and reflection.\n"
   ]
  },
  {
   "cell_type": "code",
   "execution_count": 1,
   "metadata": {},
   "outputs": [],
   "source": [
    "import subprocess\n",
    "from collections import OrderedDict\n",
    "from pathlib import Path\n",
    "import yaml\n",
    "import os\n",
    "\n",
    "import pandas as pd\n",
    "import dspy\n",
    "import matplotlib.pyplot as plt\n",
    "\n",
    "from dspy_litl_agentic_system.tasks.prism_lookup import PrismLookup\n",
    "from dspy_litl_agentic_system.tasks.task_dispatcher import PrismDispatchQueue\n",
    "from dspy_litl_agentic_system.agent.signatures import PredictIC50DrugCell\n",
    "from dspy_litl_agentic_system.agent.trace_unit import TraceUnit\n",
    "from dspy_litl_agentic_system.utils.jsonl_log import append_jsonl"
   ]
  },
  {
   "cell_type": "markdown",
   "metadata": {},
   "source": [
    "### Parameters"
   ]
  },
  {
   "cell_type": "code",
   "execution_count": 2,
   "metadata": {},
   "outputs": [],
   "source": [
    "N = 100 # for low API usage during demo\n",
    "EXPERIMENTAL_DESCRIPTION = \"\"\"\n",
    "    The chemcial-peturbation viability screen is conducted in a 8-step, \n",
    "    4-fold dilution, starting from 10μM.\n",
    "    \"\"\" # Adapted from PRISM description\n",
    "UNIT = 'uM' # PRISM standard unit\n",
    "\n",
    "CCLE_NAME = \"HUCCT1_BILIARY_TRACT\" # an arbitrary cell line for demo\n",
    "SHUFFLE_QUEUE = True\n",
    "SHUFFLE_SEED = 42\n",
    "LM_CONFIG = {\n",
    "    \"model\": \"openai/gpt-5-nano\", # small model for demo\n",
    "    \"temperature\": 1.0,\n",
    "    \"max_tokens\": 20000,\n",
    "    \"seed\": 42\n",
    "}"
   ]
  },
  {
   "cell_type": "markdown",
   "metadata": {},
   "source": [
    "### Processed Data and Logging path"
   ]
  },
  {
   "cell_type": "code",
   "execution_count": 3,
   "metadata": {},
   "outputs": [],
   "source": [
    "git_root = subprocess.check_output(\n",
    "    [\"git\", \"rev-parse\", \"--show-toplevel\"], text=True\n",
    ").strip()\n",
    "\n",
    "all_data_path = Path(git_root) \\\n",
    "    / \"data\" / \"processed\" / \"processed_depmap_prism_ic50.csv\"\n",
    "prism_all_data = pd.read_csv(all_data_path)\n",
    "\n",
    "log_path = Path(git_root) \\\n",
    "    / \"analysis\" / \"log\" / \"toolless\" / CCLE_NAME\n",
    "log_path.mkdir(parents=True, exist_ok=True) "
   ]
  },
  {
   "cell_type": "markdown",
   "metadata": {},
   "source": [
    "### Validate Global Configurations"
   ]
  },
  {
   "cell_type": "code",
   "execution_count": 4,
   "metadata": {},
   "outputs": [],
   "source": [
    "# --- Step 1: Locate repo root and config file ---\n",
    "git_root = subprocess.check_output(\n",
    "    [\"git\", \"rev-parse\", \"--show-toplevel\"], text=True\n",
    ").strip()\n",
    "config_path = Path(git_root) / \"config.yml\"\n",
    "\n",
    "if not config_path.exists():\n",
    "    raise FileNotFoundError(f\"Config file not found at: {config_path}\")\n",
    "\n",
    "# --- Step 2: Load config.yml ---\n",
    "with open(config_path, \"r\") as f:\n",
    "    config = yaml.safe_load(f)\n",
    "\n",
    "# --- Step 3: Validate api section ---\n",
    "api_cfg = config.get(\"api\")\n",
    "if not api_cfg:\n",
    "    raise ValueError(\"Missing 'api' section in config.yml\")\n",
    "\n",
    "# Required keys\n",
    "required = {\"openai\": \"OPENAI_API_KEY\"}\n",
    "\n",
    "# --- Step 4: Collect resolved paths ---\n",
    "results = []\n",
    "errors = []  # collect problems for later\n",
    "for req, environ_var in required.items():\n",
    "    value = api_cfg.get(req, None)\n",
    "    if value is None:\n",
    "        results.append((req, None, \"Missing in config\"))\n",
    "        errors.append(f\"Config '{req}' is missing\")\n",
    "        continue\n",
    "    key = value.get('key', None)\n",
    "    if key is None:\n",
    "        raise ValueError(f\"Missing 'key' for '{req}' in config.yml\")\n",
    "    else:\n",
    "        os.environ[environ_var] = key"
   ]
  },
  {
   "cell_type": "markdown",
   "metadata": {},
   "source": [
    "### Initialize LooUp and Dispatcher class"
   ]
  },
  {
   "cell_type": "code",
   "execution_count": 5,
   "metadata": {},
   "outputs": [
    {
     "name": "stdout",
     "output_type": "stream",
     "text": [
      "Subset size: 778\n"
     ]
    },
    {
     "data": {
      "text/plain": [
       "True"
      ]
     },
     "execution_count": 5,
     "metadata": {},
     "output_type": "execute_result"
    }
   ],
   "source": [
    "lookup = PrismLookup(\n",
    "    prism_all_data,\n",
    "    drug_col=\"name\",\n",
    "    cell_col=\"ccle_name\",\n",
    "    ic50_col=\"ic50\",\n",
    "    casefold=False,\n",
    "    validate_unique=True,\n",
    ")\n",
    "subset_lookup = lookup.subset(f\"ccle_name == '{CCLE_NAME}'\")\n",
    "print(f\"Subset size: {len(subset_lookup)}\")\n",
    "\n",
    "dispatcher = PrismDispatchQueue(\n",
    "    subset_lookup,\n",
    "    shuffle=True, # order of drugs is shuffled\n",
    "    seed=42 # but reproducibile\n",
    ")\n",
    "dispatcher.has_next()"
   ]
  },
  {
   "cell_type": "markdown",
   "metadata": {},
   "source": [
    "### Initialize LM "
   ]
  },
  {
   "cell_type": "code",
   "execution_count": 6,
   "metadata": {},
   "outputs": [],
   "source": [
    "dspy.configure(\n",
    "    lm=dspy.LM(\n",
    "        **LM_CONFIG\n",
    "    ))\n",
    "agent = dspy.Predict(\n",
    "    PredictIC50DrugCell,\n",
    "    tools=[]\n",
    ")"
   ]
  },
  {
   "cell_type": "markdown",
   "metadata": {},
   "source": [
    "### Loop across the subset of drugs and predict IC50 values"
   ]
  },
  {
   "cell_type": "code",
   "execution_count": 7,
   "metadata": {},
   "outputs": [
    {
     "name": "stdout",
     "output_type": "stream",
     "text": [
      "Processed 1/100: barasertib-HQPA\n",
      "Processed 2/100: EVP4593\n",
      "Processed 3/100: WAY-170523\n",
      "Processed 4/100: entinostat\n",
      "Processed 5/100: ONX-0914\n",
      "Processed 6/100: CGS-20625\n",
      "Processed 7/100: telatinib\n",
      "Processed 8/100: WAY-600\n",
      "Processed 9/100: SB-431542\n",
      "Processed 10/100: cisplatin\n",
      "Processed 11/100: axitinib\n",
      "Processed 12/100: benzethonium\n",
      "Processed 13/100: WHI-P154\n",
      "Processed 14/100: MEK162\n",
      "Processed 15/100: cycloheximide\n",
      "Processed 16/100: etoposide\n",
      "Processed 17/100: bardoxolone-methyl\n",
      "Processed 18/100: ercalcitriol\n",
      "Processed 19/100: tazemetostat\n",
      "Processed 20/100: SGI-1027\n",
      "Processed 21/100: prednisolone\n",
      "Processed 22/100: R406\n",
      "Processed 23/100: talmapimod\n",
      "Processed 24/100: SDZ-WAG-994\n",
      "Processed 25/100: oligomycin-a\n",
      "Processed 26/100: pralatrexate\n",
      "Processed 27/100: LDN-212854\n",
      "Processed 28/100: brequinar\n",
      "Processed 29/100: aurora-a-inhibitor-i\n",
      "Processed 30/100: adarotene\n",
      "Processed 31/100: NSC-319726\n",
      "Processed 32/100: digoxin\n",
      "Processed 33/100: efonidipine-monoethanolate\n",
      "Processed 34/100: AP1903\n",
      "Processed 35/100: PAC-1\n",
      "Processed 36/100: OSI-027\n",
      "Processed 37/100: colchicine\n",
      "Processed 38/100: MLN0128\n",
      "Processed 39/100: pevonedistat\n",
      "Processed 40/100: golgicide-a\n",
      "Processed 41/100: azithromycin\n",
      "Processed 42/100: SB-218795\n",
      "Processed 43/100: vorinostat\n",
      "Processed 44/100: narasin\n",
      "Processed 45/100: RS-16566\n",
      "Processed 46/100: palbociclib\n",
      "Processed 47/100: dovitinib\n",
      "Processed 48/100: 8-hydroxy-PIPAT\n",
      "Processed 49/100: AZ3146\n",
      "Processed 50/100: teriflunomide\n",
      "Processed 51/100: AZD6482\n",
      "Processed 52/100: fluorometholone\n",
      "Processed 53/100: BMS-690514\n",
      "Processed 54/100: stattic\n",
      "Processed 55/100: 4E1RCat\n",
      "Processed 56/100: tetramethylthiuram-monosulfide\n",
      "Processed 57/100: tivantinib\n",
      "Processed 58/100: VER-49009\n",
      "Processed 59/100: ryuvidine\n",
      "Processed 60/100: busulfan\n",
      "Processed 61/100: thiram\n",
      "Processed 62/100: epinephrine\n",
      "Processed 63/100: CEP-32496\n",
      "Processed 64/100: PRT062070\n",
      "Processed 65/100: 4-methylgenistein\n",
      "Processed 66/100: istradefylline\n",
      "Processed 67/100: thiomersal\n",
      "Processed 68/100: midodrine\n",
      "Processed 69/100: 1-phenylbiguanide\n",
      "Processed 70/100: broxyquinoline\n",
      "Processed 71/100: CUDC-907\n",
      "Processed 72/100: lappaconite\n",
      "Processed 73/100: dioscin\n",
      "Processed 74/100: broxaldine\n",
      "Processed 75/100: clofarabine\n",
      "Processed 76/100: FR-139317\n",
      "Processed 77/100: idarubicin\n",
      "Processed 78/100: BIIB021\n",
      "Processed 79/100: OTS167\n",
      "Processed 80/100: meclizine\n",
      "Processed 81/100: peruvoside\n",
      "Processed 82/100: AV-412\n",
      "Processed 83/100: bosentan\n",
      "Processed 84/100: spermine\n",
      "Processed 85/100: rheochrysidin\n",
      "Processed 86/100: ABT-702\n",
      "Processed 87/100: NH125\n",
      "Processed 88/100: SAR131675\n",
      "Processed 89/100: 5-fluorouracil\n",
      "Processed 90/100: oxiracetam\n",
      "Processed 91/100: salinomycin\n",
      "Processed 92/100: exemestane\n",
      "Processed 93/100: oxazepam\n",
      "Processed 94/100: ciprofibrate\n",
      "Processed 95/100: drospirenone\n",
      "Processed 96/100: KD025\n",
      "Processed 97/100: PIK-75\n",
      "Processed 98/100: NVP-AUY922\n",
      "Processed 99/100: foscarnet\n",
      "Processed 100/100: tanshinone-i\n"
     ]
    }
   ],
   "source": [
    "_n = min(N, dispatcher.remaining)\n",
    "\n",
    "representation = f\"step={_n};ccle={CCLE_NAME};shuffle={SHUFFLE_QUEUE};\" \\\n",
    "                 f\"seed={SHUFFLE_SEED};\"\n",
    "representation += ';'.join(f\"{key}={val}\" \\\n",
    "                           for key, val in LM_CONFIG.items()).replace('/', '_')\n",
    "\n",
    "log_file = log_path / f\"{representation}.jsonl\"\n",
    "trace = OrderedDict()\n",
    "\n",
    "for i in range(_n):\n",
    "\n",
    "    dispatch_item = dispatcher.dispatch()\n",
    "    trace_unit = TraceUnit(\n",
    "        drug=dispatch_item.drug,\n",
    "        cell_line=dispatch_item.cell,\n",
    "        experimental_description=EXPERIMENTAL_DESCRIPTION,\n",
    "        output_unit=UNIT,\n",
    "        ic50_true=dispatch_item.ic50\n",
    "    )\n",
    "    \n",
    "    result = agent(\n",
    "        drug=trace_unit.drug,\n",
    "        cell_line=trace_unit.cell_line,\n",
    "        experimental_description=trace_unit.experimental_description,\n",
    "        output_unit=trace_unit.output_unit\n",
    "    )\n",
    "\n",
    "    trace_unit.ic50_pred = result.ic50_pred\n",
    "    trace_unit.confidence = result.confidence\n",
    "    trace_unit.explanation = result.explanation\n",
    "    trace_unit.trajecory = result.trajectory if hasattr(result, 'trajectory') \\\n",
    "        else None\n",
    "\n",
    "    trace[trace_unit.drug] = trace_unit\n",
    "    \n",
    "    # Log after each step for validation\n",
    "    append_jsonl(log_file, record=trace_unit.model_dump())\n",
    "    \n",
    "    print(f\"Processed {i+1}/{_n}: {trace_unit.drug}\")"
   ]
  },
  {
   "cell_type": "markdown",
   "metadata": {},
   "source": [
    "### Compute fold error and plot\n",
    "\n",
    "As anticipated, our agent, without any external tools and memory, does not display improved predictive performance over iterations."
   ]
  },
  {
   "cell_type": "code",
   "execution_count": 8,
   "metadata": {},
   "outputs": [
    {
     "data": {
      "image/png": "[encoded data removed]",
      "text/plain": [
       "<Figure size 600x600 with 1 Axes>"
      ]
     },
     "metadata": {},
     "output_type": "display_data"
    }
   ],
   "source": [
    "fold_errs = []\n",
    "eps = 1e-10\n",
    "for _, trace_unit in trace.items():\n",
    "    \n",
    "    fold_errs.append(\n",
    "        max(\n",
    "            trace_unit.ic50_pred / (trace_unit.ic50_true + eps),\n",
    "            trace_unit.ic50_true / (trace_unit.ic50_pred + eps)\n",
    "        )\n",
    "    )\n",
    "\n",
    "plt.figure(figsize=(6,6))\n",
    "plt.scatter(\n",
    "    x=range(len(fold_errs)),\n",
    "    y=fold_errs,\n",
    "    alpha=0.7\n",
    ")\n",
    "plt.yscale('log')\n",
    "plt.axhline(y=1, color='r', linestyle='--', label='Perfect Prediction')\n",
    "plt.xlabel('Sample Index')\n",
    "plt.ylabel('Fold Error (lower is better)')\n",
    "plt.title(f'Fold Error of IC50 Predictions for {CCLE_NAME}')\n",
    "plt.legend()\n",
    "plt.grid(True, which=\"both\", ls=\"--\", linewidth=0.5)\n",
    "plt.tight_layout()\n",
    "plt.show()"
   ]
  }
 ],
 "metadata": {
  "kernelspec": {
   "display_name": "dspy-litl-env",
   "language": "python",
   "name": "python3"
  },
  "language_info": {
   "codemirror_mode": {
    "name": "ipython",
    "version": 3
   },
   "file_extension": ".py",
   "mimetype": "text/x-python",
   "name": "python",
   "nbconvert_exporter": "python",
   "pygments_lexer": "ipython3",
   "version": "3.11.13"
  }
 },
 "nbformat": 4,
 "nbformat_minor": 2
}
